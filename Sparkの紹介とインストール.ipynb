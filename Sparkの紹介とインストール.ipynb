{
 "metadata": {
  "language_info": {
   "codemirror_mode": {
    "name": "ipython",
    "version": 3
   },
   "file_extension": ".py",
   "mimetype": "text/x-python",
   "name": "python",
   "nbconvert_exporter": "python",
   "pygments_lexer": "ipython3",
   "version": "3.8.0-final"
  },
  "orig_nbformat": 2,
  "kernelspec": {
   "name": "python3",
   "display_name": "Python 3.8.0 64-bit",
   "metadata": {
    "interpreter": {
     "hash": "082e9a3bcad0a290d0001e938aa60b99250c6c2ef33a923c00b70f9826caf4b7"
    }
   }
  }
 },
 "nbformat": 4,
 "nbformat_minor": 2,
 "cells": [
  {
   "source": [
    "# VSCodeのインストール\n",
    "以下のURLからご自身のOSに合わせたVSCodeをダウンロード  \n",
    "https://code.visualstudio.com/download"
   ],
   "cell_type": "markdown",
   "metadata": {}
  },
  {
   "source": [
    "# VSCodeのセッティング\n",
    "1. Python拡張機能をインストールする(cmd + shift + p) -> install extensions -> ウィンドウにpythonと入力\n",
    "2. cmd + shift + p -> python interpreter -> python3.8\n",
    "3. cmd + shift + p -> create ju -> Pythonが利用可能なノートブック環境ができあがります"
   ],
   "cell_type": "markdown",
   "metadata": {}
  },
  {
   "cell_type": "code",
   "execution_count": null,
   "metadata": {},
   "outputs": [],
   "source": [
    "#Pythonコードのテスト\n",
    "1+2\n",
    "#実行はctr + enterで可能です"
   ]
  },
  {
   "source": [
    "# PySparkのセッティング\n",
    "1. !pip3 install pyspark --user jupyter　を実行"
   ],
   "cell_type": "markdown",
   "metadata": {}
  },
  {
   "cell_type": "code",
   "execution_count": null,
   "metadata": {},
   "outputs": [],
   "source": [
    "!pip3 install pyspark --user jupyter"
   ]
  },
  {
   "source": [
    "#pysparkに必要なライブラリを読み込む\n",
    "from pyspark import SparkConf\n",
    "from pyspark import SparkContext\n",
    "from pyspark.sql import SparkSession\n",
    "\n",
    "#spark sessionの作成\n",
    "spark = SparkSession.builder \\\n",
    "    .appName(\"hjogeghoge\") \\\n",
    "    .config(\"hive.exec.dynamic.partition\", \"true\") \\\n",
    "    .config(\"hive.exec.dynamic.partition.mode\", \"nonstrict\") \\\n",
    "    .config(\"spark.sql.session.timeZone\", \"JST\") \\\n",
    "    .enableHiveSupport() \\\n",
    "    .getOrCreate()"
   ],
   "cell_type": "code",
   "metadata": {},
   "execution_count": 43,
   "outputs": []
  },
  {
   "cell_type": "code",
   "execution_count": 45,
   "metadata": {},
   "outputs": [
    {
     "output_type": "stream",
     "name": "stdout",
     "text": [
      "+---+\n|  2|\n+---+\n|  2|\n+---+\n\n"
     ]
    }
   ],
   "source": [
    "ま"
   ]
  },
  {
   "source": [
    "# Pyspar作成"
   ],
   "cell_type": "markdown",
   "metadata": {}
  }
 ]
}