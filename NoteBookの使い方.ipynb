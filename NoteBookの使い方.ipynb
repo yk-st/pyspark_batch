{
 "cells": [
  {
   "cell_type": "markdown",
   "source": [
    "# NoteBookのちょっとしたトピック"
   ],
   "metadata": {}
  },
  {
   "cell_type": "markdown",
   "source": [
    "# ノートブックとは？\n",
    "Jupyterノートブックや今回のようなVscodeのノートブックがあります。\n",
    "\n",
    "ノートブックとは、ノートのように途中結果を残しておけるツールのことで分析の途中結果や処理の途中結果を逐一確認しながら\n",
    "処理を行うことができます。\n",
    "\n",
    "データ界隈では、ノートブックの環境は頻繁に使われていますので、存在を知りつつ使い方になれていきましょう。"
   ],
   "metadata": {}
  },
  {
   "cell_type": "code",
   "execution_count": 1,
   "source": [
    "import re\n",
    "\"1,1\".split(\",\")[0]\n",
    "# この一つ一つをセルと言います\n",
    "# 実行にはCTR ENTRを押します\n",
    "# bボタンを押すとセルが追加されます\n",
    "# d,dを押すとセルが削除されます "
   ],
   "outputs": [
    {
     "output_type": "execute_result",
     "data": {
      "text/plain": [
       "'1'"
      ]
     },
     "metadata": {},
     "execution_count": 1
    }
   ],
   "metadata": {}
  },
  {
   "cell_type": "code",
   "execution_count": 2,
   "source": [
    "2+3"
   ],
   "outputs": [
    {
     "output_type": "execute_result",
     "data": {
      "text/plain": [
       "5"
      ]
     },
     "metadata": {},
     "execution_count": 2
    }
   ],
   "metadata": {}
  },
  {
   "cell_type": "markdown",
   "source": [
    "# ほほげ"
   ],
   "metadata": {}
  },
  {
   "cell_type": "code",
   "execution_count": 2,
   "source": [
    "1+1"
   ],
   "outputs": [
    {
     "output_type": "execute_result",
     "data": {
      "text/plain": [
       "2"
      ]
     },
     "metadata": {},
     "execution_count": 2
    }
   ],
   "metadata": {}
  }
 ],
 "metadata": {
  "kernelspec": {
   "name": "python3",
   "display_name": "Python 3.8.0 64-bit"
  },
  "language_info": {
   "codemirror_mode": {
    "name": "ipython",
    "version": 3
   },
   "file_extension": ".py",
   "mimetype": "text/x-python",
   "name": "python",
   "nbconvert_exporter": "python",
   "pygments_lexer": "ipython3",
   "version": "3.8.0"
  },
  "interpreter": {
   "hash": "cadefa720d1a2267f4d12d08d812560a64cfe891877bc388bf0e8af3e4846067"
  }
 },
 "nbformat": 4,
 "nbformat_minor": 5
}