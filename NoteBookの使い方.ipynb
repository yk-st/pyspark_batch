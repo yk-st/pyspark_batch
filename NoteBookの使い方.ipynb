{
 "cells": [
  {
   "cell_type": "markdown",
   "id": "7d41a238",
   "metadata": {},
   "source": [
    "# Pysparkの基本目次\n",
    "1. 環境のセットアップをしてみよう\n",
    "2. SparkでDataFameを使ってみよう\n",
    "3. SparkSQLを使ってみよう\n",
    "4. SparkをClusterで動かしてみよう(on Amazon EMR)\n",
    "5. SparkでStreaming処理を動かしてみよう(on Amazon EMR)"
   ]
  },
  {
   "cell_type": "code",
   "execution_count": 1,
   "id": "8a36a0da",
   "metadata": {},
   "outputs": [
    {
     "data": {
      "text/plain": [
       "'1'"
      ]
     },
     "execution_count": 1,
     "metadata": {},
     "output_type": "execute_result"
    }
   ],
   "source": [
    "import re\n",
    "\"1,1\".split(\",\")[0]\n",
    "# この一つ一つをセルと言います\n",
    "# 実行にはCTR ENTRを押します\n",
    "# bボタンを押すとセルが追加されます\n",
    "# d,dを押すとセルが削除されます\n",
    "# Helpからショートカットを確認することができます"
   ]
  }
 ],
 "metadata": {
  "kernelspec": {
   "display_name": "Python 3",
   "language": "python",
   "name": "python3"
  },
  "language_info": {
   "codemirror_mode": {
    "name": "ipython",
    "version": 3
   },
   "file_extension": ".py",
   "mimetype": "text/x-python",
   "name": "python",
   "nbconvert_exporter": "python",
   "pygments_lexer": "ipython3",
   "version": "3.9.4"
  }
 },
 "nbformat": 4,
 "nbformat_minor": 5
}
