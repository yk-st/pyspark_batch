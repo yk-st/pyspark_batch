{
 "cells": [
  {
   "cell_type": "markdown",
   "id": "7d41a238",
   "metadata": {},
   "source": [
    "# NoteBookのちょっとしたトピック"
   ]
  },
  {
   "cell_type": "code",
   "execution_count": 1,
   "id": "8a36a0da",
   "metadata": {},
   "outputs": [
    {
     "output_type": "execute_result",
     "data": {
      "text/plain": [
       "'1'"
      ]
     },
     "metadata": {},
     "execution_count": 1
    }
   ],
   "source": [
    "import re\n",
    "\"1,1\".split(\",\")[0]\n",
    "# この一つ一つをセルと言います\n",
    "# 実行にはCTR ENTRを押します\n",
    "# bボタンを押すとセルが追加されます\n",
    "# d,dを押すとセルが削除されます\n",
    "# Helpからショートカットを確認することができます"
   ]
  },
  {
   "cell_type": "code",
   "execution_count": null,
   "metadata": {},
   "outputs": [],
   "source": []
  }
 ],
 "metadata": {
  "kernelspec": {
   "name": "python3",
   "display_name": "Python 3.8.0 64-bit",
   "metadata": {
    "interpreter": {
     "hash": "cadefa720d1a2267f4d12d08d812560a64cfe891877bc388bf0e8af3e4846067"
    }
   }
  },
  "language_info": {
   "codemirror_mode": {
    "name": "ipython",
    "version": 3
   },
   "file_extension": ".py",
   "mimetype": "text/x-python",
   "name": "python",
   "nbconvert_exporter": "python",
   "pygments_lexer": "ipython3",
   "version": "3.8.0"
  }
 },
 "nbformat": 4,
 "nbformat_minor": 5
}